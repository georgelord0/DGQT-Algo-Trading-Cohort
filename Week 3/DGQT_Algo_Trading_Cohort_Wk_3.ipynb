{
 "cells": [
  {
   "cell_type": "markdown",
   "metadata": {},
   "source": [
    "## Step 0: Importing modules"
   ]
  },
  {
   "cell_type": "code",
   "execution_count": null,
   "metadata": {},
   "outputs": [],
   "source": [
    "import pandas as pd\n",
    "import statsmodels.api as sm\n",
    "import matplotlib.pyplot as plt\n",
    "import yfinance as yf\n",
    "import numpy as np"
   ]
  },
  {
   "cell_type": "markdown",
   "metadata": {},
   "source": [
    "## Step 1: Statistical Arbitrage -- Pairs Trading"
   ]
  },
  {
   "cell_type": "markdown",
   "metadata": {},
   "source": [
    "Pairs trading is a form of statistical arbitrage that assumes that the prices of highly cointegrated assets/stocks (such as those in the same industry with similar size and business models) will most often move in the same direction together, and that large temporary divergences in their prices/returns will revert back. \n",
    "\n",
    "To begin pairs trading, we first need to identify two highly cointegrated stocks. Cointegration is a measure of how much two time series move together and remain close to each other over time.\n",
    "\n",
    "Some code modified from FINM 25000."
   ]
  },
  {
   "cell_type": "code",
   "execution_count": 2,
   "metadata": {},
   "outputs": [],
   "source": [
    "from statsmodels.tsa.stattools import coint\n"
   ]
  },
  {
   "cell_type": "code",
   "execution_count": null,
   "metadata": {},
   "outputs": [],
   "source": [
    "coca_cola_price = yf.download(\"KO\", start=\"2014-01-01\", end=\"2024-01-01\")['Adj Close']\n",
    "pepsico_price = yf.download(\"PEP\", start=\"2014-01-01\", end=\"2024-01-01\")['Adj Close']\n",
    "\n",
    "pairs_trading_data = pd.DataFrame({\"KO\": coca_cola_price[\"KO\"], \"PEP\": pepsico_price[\"PEP\"]}).dropna()\n",
    "\n",
    "\n",
    "score, pvalue, _ = coint(pairs_trading_data[\"KO\"], pairs_trading_data[\"PEP\"])\n",
    "print(f'P-value: {pvalue}')"
   ]
  },
  {
   "cell_type": "code",
   "execution_count": null,
   "metadata": {},
   "outputs": [],
   "source": [
    "pairs_trading_data.plot()"
   ]
  },
  {
   "cell_type": "markdown",
   "metadata": {},
   "source": [
    "Here we see that the prices of Coca Cola (KO) and PepsiCo (PEP) are statistically cointegrated with a p-value of < 0.05 (it helps that we chose a large timeframe considering we are using daily prices).\n",
    "\n",
    "Now we can calulate the spread of their prices and calculate a rolling z-score of the spread (we will use a 30 day timeframe) for use in deriving our trading signals."
   ]
  },
  {
   "cell_type": "code",
   "execution_count": 5,
   "metadata": {},
   "outputs": [],
   "source": [
    "pairs_trading_data[\"spread\"] = pairs_trading_data[\"PEP\"] - pairs_trading_data[\"KO\"]\n",
    "pairs_trading_data[\"rolling_zscore\"] = (pairs_trading_data[\"spread\"] - pairs_trading_data[\"spread\"].rolling(30).mean()) / pairs_trading_data[\"spread\"].rolling(30).std()"
   ]
  },
  {
   "cell_type": "code",
   "execution_count": null,
   "metadata": {},
   "outputs": [],
   "source": [
    "pairs_trading_data[\"rolling_zscore\"].tail(255).plot() # Plot last year rolling z-score"
   ]
  },
  {
   "cell_type": "markdown",
   "metadata": {},
   "source": [
    "Now we can define our trading signals. When the spread's Z-score is below -1, that means that the spread is unusually small, and we can expect it to increase to it's usual level (hence go long the pricier stock PEP). When the spread's Z-score is above 1, it is unusually large, so we can expect it to decrease to it's usual level (hence go short the pricier stock PEP)."
   ]
  },
  {
   "cell_type": "code",
   "execution_count": 7,
   "metadata": {},
   "outputs": [],
   "source": [
    "pairs_trading_data[\"long_signal\"] = np.where(pairs_trading_data[\"rolling_zscore\"] < -1, 1, 0)\n",
    "pairs_trading_data[\"short_signal\"] = np.where(pairs_trading_data[\"rolling_zscore\"] > 1, -1, 0)\n",
    "pairs_trading_data[\"signal\"] = pairs_trading_data[\"long_signal\"] + pairs_trading_data[\"short_signal\"]"
   ]
  },
  {
   "cell_type": "code",
   "execution_count": null,
   "metadata": {},
   "outputs": [],
   "source": [
    "pairs_trading_data"
   ]
  },
  {
   "cell_type": "markdown",
   "metadata": {},
   "source": [
    "Now we can simulate a backtest (since we are using rolling only):"
   ]
  },
  {
   "cell_type": "code",
   "execution_count": 9,
   "metadata": {},
   "outputs": [],
   "source": [
    "pairs_trading_data['Return'] = pairs_trading_data[\"PEP\"].pct_change() * pairs_trading_data['signal'].shift() # Remember we are going long/short KP. We could also go short/long PEP correspondingly\n",
    "pairs_trading_data['Total Return'] = (1 + pairs_trading_data['Return']).cumprod()\n"
   ]
  },
  {
   "cell_type": "code",
   "execution_count": null,
   "metadata": {},
   "outputs": [],
   "source": [
    "plt.figure(figsize=(14, 7))\n",
    "plt.plot(pairs_trading_data.index, pairs_trading_data['Total Return'], label='Cumulative Return')\n",
    "plt.title('Cumulative Returns of the Statistical Arbitrage Strategy')\n",
    "plt.legend()\n",
    "plt.show()"
   ]
  },
  {
   "cell_type": "markdown",
   "metadata": {},
   "source": [
    "TODO (Optional): Calculate the mean annual returns and sharpe ratio of the strategy. HINT: Remember to consider the timeframe we are operating on and the number of trading days in a year!\n",
    "\n",
    "TODO 2 (Optional): Now that you have a basic metric to analyze the strategy's performance, play around with the strategy (finding different pairs, changing rolling z-score window size, zscore threshold, etc.) to try and find a better sharpe configuration of this strategy based on a sound backtest."
   ]
  },
  {
   "cell_type": "markdown",
   "metadata": {},
   "source": [
    "## Step 2: Trend/Momentum Trading"
   ]
  },
  {
   "cell_type": "markdown",
   "metadata": {},
   "source": [
    "Momentum trading is a trading strategy that relies on identifying short-term momentum towards an upwards or downwards movement in price, following that trend, and then identifying the eventual decrease in momentum to close the position before it reverses. \n",
    "\n",
    "In this example, we will use Exponential Moving Average crossover to idenify our trends in a common stock known for it's hype (TSLA), attempting to capitalize on the \"investor herding\". When out long-term EMA crosses below our short-term EMA, it will give a signal for a buy opportunity (why does this make sense?), and vice-versa. We are going to use an EMA so that more recent prices are given more weight, as investors heuristically give more importance to more recent price data.\n",
    "\n",
    "An EMA of 12 and 26 days are used in \"textbook\" examples, but feel free to play around with them in your backtest to see what works.\n",
    "\n",
    "NOTE: TSLA has had pretty remarkable returns in the last few years. When analyzing the performance of our strategy, we also want to consider it in comparison to just holding the asset outright, compare it to the market as a whole, and compare risk-adjusted metrics such as sharpe ratio as well. "
   ]
  },
  {
   "cell_type": "code",
   "execution_count": null,
   "metadata": {},
   "outputs": [],
   "source": [
    "tsla_price = yf.download(\"TSLA\", start=\"2019-01-01\", end=\"2024-01-01\")['Adj Close']\n",
    "tsla_price[\"TSLA\"].plot()"
   ]
  },
  {
   "cell_type": "markdown",
   "metadata": {},
   "source": [
    "Let's calculate our EMAs and their corresponding signals"
   ]
  },
  {
   "cell_type": "code",
   "execution_count": null,
   "metadata": {},
   "outputs": [],
   "source": [
    "# Code modified from FINM 25000\n",
    "\n",
    "tsla_price['ema12'] = tsla_price['TSLA'].ewm(span=12, adjust=False).mean()\n",
    "tsla_price['ema26'] = tsla_price['TSLA'].ewm(span=26, adjust=False).mean()\n",
    "\n",
    "tsla_price['signal'] = 0.0\n",
    "tsla_price['signal'][12:] = np.where(tsla_price['ema12'][12:] > tsla_price['ema26'][12:], 1.0, 0.0)\n",
    "tsla_price['position'] = tsla_price['signal'].diff()\n",
    "\n",
    "tsla_price[['TSLA', 'ema12', 'ema26']].plot(figsize=(14, 7))"
   ]
  },
  {
   "cell_type": "markdown",
   "metadata": {},
   "source": [
    "Now we can backtest our returns"
   ]
  },
  {
   "cell_type": "code",
   "execution_count": null,
   "metadata": {},
   "outputs": [],
   "source": [
    "tsla_price['return'] = tsla_price['TSLA'].pct_change()\n",
    "tsla_price['position returns'] = tsla_price['return'] * tsla_price['position'].shift()\n",
    "\n",
    "# Plot cumulative returns of the strategy\n",
    "tsla_price['Total Return'] = (1 + tsla_price['position returns']).cumprod()\n",
    "\n",
    "plt.figure(figsize=(14, 7))\n",
    "plt.plot(tsla_price['Total Return'], label='Total Return')\n",
    "plt.legend()\n",
    "plt.show()"
   ]
  },
  {
   "cell_type": "markdown",
   "metadata": {},
   "source": [
    "Oh no! We lost money! Unfortunately, one cannot just take simple strategies with a loose hypothesis and little due dilligance and expect to make money! Momentum trading can be a lucrative strategy when done right, but there is no one size fits all strategy for any asset (otherwise I'd be a billionaire)."
   ]
  },
  {
   "cell_type": "markdown",
   "metadata": {},
   "source": [
    "## Step 3: Technical Indicator Examples (Erik)"
   ]
  },
  {
   "cell_type": "code",
   "execution_count": null,
   "metadata": {},
   "outputs": [],
   "source": [
    "# Fetch historical stock data\n",
    "msft = yf.download(\"MSFT\", start=\"2020-01-01\", end=\"2025-01-01\")\n",
    "\n",
    "# Simple Moving Average\n",
    "def calculate_sma(prices, window):\n",
    "    return prices.rolling(window=window).mean()\n",
    "\n",
    "msft['SMA_50'] = calculate_sma(msft['Close'], 50)"
   ]
  },
  {
   "cell_type": "code",
   "execution_count": 15,
   "metadata": {},
   "outputs": [],
   "source": [
    "def calculate_ema(prices, window):\n",
    "    alpha = 2 / (window + 1)\n",
    "    ema = prices.copy()  # Initialize EMA with prices\n",
    "    for i in range(1, len(prices)):\n",
    "        ema.iloc[i] = (prices.iloc[i] * alpha) + (ema.iloc[i-1] * (1 - alpha))\n",
    "    return ema\n",
    "\n",
    "msft['EMA_20'] = calculate_ema(msft['Close'], 20)"
   ]
  },
  {
   "cell_type": "code",
   "execution_count": 16,
   "metadata": {},
   "outputs": [],
   "source": [
    "def calculate_rsi(prices, window):\n",
    "    delta = prices.diff()\n",
    "    gains = delta.where(delta > 0, 0)\n",
    "    losses = -delta.where(delta < 0, 0)\n",
    "\n",
    "    avg_gain = gains.rolling(window=window).mean()\n",
    "    avg_loss = losses.rolling(window=window).mean()\n",
    "\n",
    "    rs = avg_gain / avg_loss\n",
    "    rsi = 100 - (100 / (1 + rs))\n",
    "    return rsi\n",
    "\n",
    "msft['RSI'] = calculate_rsi(msft['Close'], 14)"
   ]
  },
  {
   "cell_type": "code",
   "execution_count": 17,
   "metadata": {},
   "outputs": [],
   "source": [
    "def calculate_macd(prices, fast=12, slow=26, signal=9):\n",
    "    ema_fast = calculate_ema(prices, fast)\n",
    "    ema_slow = calculate_ema(prices, slow)\n",
    "    macd = ema_fast - ema_slow\n",
    "    macd_signal = calculate_ema(macd, signal)\n",
    "    macd_histogram = macd - macd_signal\n",
    "    return macd, macd_signal, macd_histogram\n",
    "\n",
    "msft['MACD'], msft['MACD_Signal'], msft['MACD_Hist'] = calculate_macd(msft['Close'])"
   ]
  },
  {
   "cell_type": "code",
   "execution_count": 18,
   "metadata": {},
   "outputs": [],
   "source": [
    "def calculate_bollinger_bands(prices, window, num_std_dev):\n",
    "    sma = calculate_sma(prices, window)\n",
    "    rolling_std = prices.rolling(window=window).std()\n",
    "    upper_band = sma + (rolling_std * num_std_dev)\n",
    "    lower_band = sma - (rolling_std * num_std_dev)\n",
    "    return sma, upper_band, lower_band\n",
    "\n",
    "msft['BB_Middle'], msft['BB_Upper'], msft['BB_Lower'] = calculate_bollinger_bands(msft['Close'], 20, 2)\n"
   ]
  },
  {
   "cell_type": "code",
   "execution_count": null,
   "metadata": {},
   "outputs": [],
   "source": [
    "# Plotting the stock price with SMA and EMA\n",
    "plt.figure(figsize=(14, 7))\n",
    "plt.plot(msft['Close'], label='Close Price', alpha=0.8)\n",
    "plt.plot(msft['SMA_50'], label='50-day SMA', linestyle='--', alpha=0.8)\n",
    "plt.plot(msft['EMA_20'], label='20-day EMA', linestyle='--', alpha=0.8)\n",
    "plt.title(\"Microsoft Stock Price with Moving Averages\")\n",
    "plt.legend()\n",
    "plt.show()\n",
    "\n",
    "# Plot RSI\n",
    "plt.figure(figsize=(14, 5))\n",
    "plt.plot(msft['RSI'], label='RSI', color='purple')\n",
    "plt.axhline(70, color='red', linestyle='--', label='Overbought')\n",
    "plt.axhline(30, color='green', linestyle='--', label='Oversold')\n",
    "plt.title(\"Relative Strength Index (RSI)\")\n",
    "plt.legend()\n",
    "plt.show()\n",
    "\n",
    "# Plot MACD\n",
    "plt.figure(figsize=(14, 7))\n",
    "plt.plot(msft['MACD'], label='MACD', color='red')\n",
    "plt.plot(msft['MACD_Signal'], label='Signal Line', color='blue', linestyle='--')\n",
    "plt.bar(msft.index, msft['MACD_Hist'], label='MACD Histogram', color='purple')\n",
    "plt.title(\"Moving Average Convergence Divergence (MACD)\")\n",
    "plt.legend()\n",
    "plt.show()\n",
    "\n",
    "# Plot Bollinger Bands\n",
    "plt.figure(figsize=(14, 7))\n",
    "plt.plot(msft['Close'], label='Close Price', alpha=0.8)\n",
    "plt.plot(msft['BB_Middle'], label='Middle Band', linestyle='--', alpha=0.8)\n",
    "plt.plot(msft['BB_Upper'], label='Upper Band', linestyle='--', alpha=0.8)\n",
    "plt.plot(msft['BB_Lower'], label='Lower Band', linestyle='--', alpha=0.8)\n",
    "plt.title(\"Bollinger Bands\")\n",
    "plt.legend()\n",
    "plt.show()"
   ]
  },
  {
   "cell_type": "markdown",
   "metadata": {},
   "source": [
    "## Step 4: Implement your own TI\n",
    "\n",
    "Find a TI you think you would be able to implement, and do it for a stock of your choice.\n",
    "\n",
    "(Optional) Simulate a trading strategy based on that TI."
   ]
  }
 ],
 "metadata": {
  "kernelspec": {
   "display_name": "base",
   "language": "python",
   "name": "python3"
  },
  "language_info": {
   "codemirror_mode": {
    "name": "ipython",
    "version": 3
   },
   "file_extension": ".py",
   "mimetype": "text/x-python",
   "name": "python",
   "nbconvert_exporter": "python",
   "pygments_lexer": "ipython3",
   "version": "3.9.12"
  }
 },
 "nbformat": 4,
 "nbformat_minor": 2
}
