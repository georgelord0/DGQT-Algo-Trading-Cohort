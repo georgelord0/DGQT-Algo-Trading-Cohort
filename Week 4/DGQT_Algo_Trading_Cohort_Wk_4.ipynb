{
 "cells": [
  {
   "cell_type": "markdown",
   "metadata": {},
   "source": [
    "## Step 0: Importing modules"
   ]
  },
  {
   "cell_type": "code",
   "execution_count": null,
   "metadata": {},
   "outputs": [],
   "source": [
    "import pandas as pd\n",
    "import statsmodels.api as sm\n",
    "import matplotlib.pyplot as plt\n",
    "import yfinance as yf"
   ]
  },
  {
   "cell_type": "markdown",
   "metadata": {},
   "source": [
    "## Step 1: Backtesting Example:"
   ]
  },
  {
   "cell_type": "markdown",
   "metadata": {},
   "source": [
    "See week 3 steps 0-1 (close reading)\n"
   ]
  },
  {
   "cell_type": "markdown",
   "metadata": {},
   "source": [
    "## Step 2: Sample Alpaca Code - Setup\n",
    "\n",
    "Modified from https://github.com/alpacahq/alpaca-py/blob/master/examples/crypto/crypto-trading-basic.ipynb "
   ]
  },
  {
   "cell_type": "markdown",
   "metadata": {},
   "source": [
    "First we have to give Alpaca the necessary keys and endpoints to access our paper trading account. For testing's sake, we can just copy them in plaintext, but if you make/publish a public github repo with your strategy, **make sure these are never plaintext (use a config file or environment variables)!**"
   ]
  },
  {
   "cell_type": "code",
   "execution_count": null,
   "metadata": {},
   "outputs": [],
   "source": [
    "# Paste your keys here\n",
    "api_key = \"\"\n",
    "secret_key = \"\"\n",
    "\n",
    "paper = True # Please do not modify this. This example is for paper trading only.\n",
    "\n",
    "# Below are the variables for development this documents\n",
    "# Please do not change these variables\n",
    "trade_api_url = None\n",
    "trade_api_wss = None\n",
    "data_api_url = None\n",
    "stream_data_wss = None"
   ]
  },
  {
   "cell_type": "markdown",
   "metadata": {},
   "source": [
    "We will use \"alpaca-py\" package in python to access the trading api. I suggest pip installing it, although it can be installed inline below:"
   ]
  },
  {
   "cell_type": "code",
   "execution_count": null,
   "metadata": {},
   "outputs": [],
   "source": [
    "%pip install alpaca-py"
   ]
  },
  {
   "cell_type": "code",
   "execution_count": null,
   "metadata": {},
   "outputs": [],
   "source": [
    "import alpaca"
   ]
  },
  {
   "cell_type": "markdown",
   "metadata": {},
   "source": [
    "Here is some handy object definitions from the alpaca package we will use in our code:"
   ]
  },
  {
   "cell_type": "code",
   "execution_count": null,
   "metadata": {},
   "outputs": [],
   "source": [
    "import json\n",
    "from datetime import datetime, timedelta\n",
    "from zoneinfo import ZoneInfo\n",
    "\n",
    "from alpaca.trading.client import TradingClient\n",
    "from alpaca.data.timeframe import TimeFrame, TimeFrameUnit\n",
    "from alpaca.data.historical.crypto import CryptoHistoricalDataClient\n",
    "from alpaca.trading.stream import TradingStream\n",
    "from alpaca.data.live.crypto import CryptoDataStream\n",
    "\n",
    "from alpaca.data.requests import (\n",
    "    CryptoBarsRequest,\n",
    "    CryptoQuoteRequest,\n",
    "    CryptoTradesRequest,\n",
    "    CryptoLatestQuoteRequest\n",
    "    )\n",
    "from alpaca.trading.requests import (\n",
    "    GetAssetsRequest,\n",
    "    MarketOrderRequest,\n",
    "    LimitOrderRequest,\n",
    "    StopLimitOrderRequest,\n",
    "    GetOrdersRequest,\n",
    "    ClosePositionRequest\n",
    ")\n",
    "from alpaca.trading.enums import (\n",
    "    AssetClass,\n",
    "    AssetStatus,\n",
    "    OrderSide,\n",
    "    OrderType,\n",
    "    TimeInForce,\n",
    "    QueryOrderStatus\n",
    ")\n",
    "from alpaca.common.exceptions import APIError"
   ]
  },
  {
   "cell_type": "markdown",
   "metadata": {},
   "source": [
    "## Step 3: Sample Alpaca Code - Using the Trading Client"
   ]
  },
  {
   "cell_type": "markdown",
   "metadata": {},
   "source": [
    "First, let's set up a trading client variable that will be accessed to place orders:"
   ]
  },
  {
   "cell_type": "code",
   "execution_count": null,
   "metadata": {},
   "outputs": [],
   "source": [
    "trade_client = TradingClient(api_key=api_key, secret_key=secret_key, paper=paper, url_override=trade_api_url)"
   ]
  },
  {
   "cell_type": "markdown",
   "metadata": {},
   "source": [
    "To test our access, we can try getting a json containing our account information (such as current cash)\n"
   ]
  },
  {
   "cell_type": "code",
   "execution_count": null,
   "metadata": {},
   "outputs": [],
   "source": [
    "acct = trade_client.get_account()\n",
    "acct\n"
   ]
  },
  {
   "cell_type": "markdown",
   "metadata": {},
   "source": [
    "Now let's try executing a few paper trading orders (based on the real market) on our account from the code. We will use crypto since the markets for that are open 24/7 and our lectures are on Saturday.\n",
    "\n",
    "Alpaca supports simple market orders, limit orders, stop limit orders, and different time-in-force combinations (see the docs for more info). Below, we will demonstrate an order buying 0.01 BTC at the market price, with order \"Good Till Canceled\".\n",
    "\n",
    "Similar code for equities, options, etc can be found at: https://github.com/alpacahq/alpaca-py/tree/master/examples"
   ]
  },
  {
   "cell_type": "code",
   "execution_count": null,
   "metadata": {},
   "outputs": [],
   "source": [
    "\n",
    "req = MarketOrderRequest(\n",
    "    symbol = \"BTC/USD\",\n",
    "    qty = 0.01,\n",
    "    side = OrderSide.BUY,\n",
    "    type = OrderType.MARKET,\n",
    "    time_in_force = TimeInForce.GTC,\n",
    ") #This defines the order\n",
    "\n",
    "res = trade_client.submit_order(req) # this submits the order to the API, returning the result\n",
    "res"
   ]
  },
  {
   "cell_type": "markdown",
   "metadata": {},
   "source": [
    "Check your account dashboard. Notice any changes? If your code ran, you should see a new position in BTC/USD.\n",
    "\n",
    "Selling/shorting, buying in $ amount instead of share amount, etc. can all be found in the docs and done similarly."
   ]
  },
  {
   "cell_type": "markdown",
   "metadata": {},
   "source": [
    "Now let's check our positions (we will see the ~800$ of BTC we are long):"
   ]
  },
  {
   "cell_type": "code",
   "execution_count": null,
   "metadata": {},
   "outputs": [],
   "source": [
    "# get all open positions:\n",
    "positions = trade_client.get_all_positions()\n",
    "positions"
   ]
  },
  {
   "cell_type": "markdown",
   "metadata": {},
   "source": [
    "Say we want to close the position. Placing another order to sell the BTC may leave us with some left over due to slippage, or not get fully filled. As such, it is easier to close our position in a given symbol as such (specifying quantity):"
   ]
  },
  {
   "cell_type": "code",
   "execution_count": null,
   "metadata": {},
   "outputs": [],
   "source": [
    "trade_client.close_position(\n",
    "    symbol_or_asset_id = \"BTCUSD\",\n",
    "    close_options = ClosePositionRequest(\n",
    "        qty = \"0.01\",\n",
    "    )\n",
    ")"
   ]
  },
  {
   "cell_type": "markdown",
   "metadata": {},
   "source": [
    "Now we can look at all our open positions again, and see BTC has been closed/sold:"
   ]
  },
  {
   "cell_type": "code",
   "execution_count": null,
   "metadata": {},
   "outputs": [],
   "source": [
    "# get all open positions:\n",
    "positions = trade_client.get_all_positions()\n",
    "positions"
   ]
  },
  {
   "cell_type": "markdown",
   "metadata": {},
   "source": [
    "## Step 4: Sample Alpaca Code - Getting Historical Market Data"
   ]
  },
  {
   "cell_type": "markdown",
   "metadata": {},
   "source": [
    "As well as providing a paper-trading API, Alpaca provides an API for getting market data that uses the same symbol names it does for trading (making thing convenient). While the data isn't super high fidelity and lags live data by 5 minutes (IIRC), it is convenient for an academic example, and surely better for this purpose than something like yfinance."
   ]
  },
  {
   "cell_type": "markdown",
   "metadata": {},
   "source": [
    "Let's get crypto's historical data"
   ]
  },
  {
   "cell_type": "code",
   "execution_count": null,
   "metadata": {},
   "outputs": [],
   "source": [
    "crypto_historical_data_client = CryptoHistoricalDataClient()\n",
    "symbol=\"BTC/USD\""
   ]
  },
  {
   "cell_type": "markdown",
   "metadata": {},
   "source": [
    "We can now get the historical 1-hour time bars for our symbol for the last day (this can be specified to whatever time frame you want, within reason). Be sure to specify your time zone!\n",
    "\n",
    "The result returns a dataframe similar to what we are used to with yfinance."
   ]
  },
  {
   "cell_type": "code",
   "execution_count": null,
   "metadata": {},
   "outputs": [],
   "source": [
    "# get historical bars by symbol\n",
    "# ref. https://docs.alpaca.markets/reference/cryptobars-1\n",
    "now = datetime.now(ZoneInfo(\"America/Chicago\"))\n",
    "req = CryptoBarsRequest(\n",
    "    symbol_or_symbols = [symbol],\n",
    "    timeframe=TimeFrame(amount = 1, unit = TimeFrameUnit.Hour), # specify timeframe\n",
    "    start = now - timedelta(days = 1),                          # specify start datetime, default=the beginning of the current day.\n",
    "    # end_date=None,                                        # specify end datetime, default=now\n",
    ")\n",
    "crypto_historical_data_client.get_crypto_bars(req).df"
   ]
  },
  {
   "cell_type": "markdown",
   "metadata": {},
   "source": [
    "In the example code at https://github.com/alpacahq/alpaca-py/blob/master/examples/crypto/crypto-trading-basic.ipynb, you can also see how to get historical quotes and trades (although bars should suffice for basic strategies)"
   ]
  },
  {
   "cell_type": "markdown",
   "metadata": {},
   "source": [
    "For our program to trade live, we will likely need it to repeatedly look at the latest quote for the symbol(s) it is trading on (L1 level market data). This can be done as such:"
   ]
  },
  {
   "cell_type": "code",
   "execution_count": null,
   "metadata": {},
   "outputs": [],
   "source": [
    "req = CryptoLatestQuoteRequest(\n",
    "    symbol_or_symbols = [symbol],\n",
    ")\n",
    "res = crypto_historical_data_client.get_crypto_latest_quote(req)\n",
    "res"
   ]
  },
  {
   "cell_type": "markdown",
   "metadata": {},
   "source": [
    "In your project, you will be required to use code like this to backtest and implement a live version of your algorithm. I highly suggest making custom functions using the ones above for simpler order execution!"
   ]
  }
 ],
 "metadata": {
  "kernelspec": {
   "display_name": "base",
   "language": "python",
   "name": "python3"
  },
  "language_info": {
   "codemirror_mode": {
    "name": "ipython",
    "version": 3
   },
   "file_extension": ".py",
   "mimetype": "text/x-python",
   "name": "python",
   "nbconvert_exporter": "python",
   "pygments_lexer": "ipython3",
   "version": "3.9.12"
  }
 },
 "nbformat": 4,
 "nbformat_minor": 2
}
